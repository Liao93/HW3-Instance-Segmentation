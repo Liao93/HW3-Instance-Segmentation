{
  "nbformat": 4,
  "nbformat_minor": 0,
  "metadata": {
    "accelerator": "GPU",
    "colab": {
      "name": "inference.ipynb",
      "provenance": [],
      "collapsed_sections": []
    },
    "kernelspec": {
      "display_name": "Python 3",
      "name": "python3"
    },
    "language_info": {
      "name": "python"
    }
  },
  "cells": [
    {
      "cell_type": "code",
      "metadata": {
        "id": "RDgxJeELA1wb"
      },
      "source": [
        "from google.colab import drive\n",
        "drive.mount('/content/drive')"
      ],
      "execution_count": null,
      "outputs": []
    },
    {
      "cell_type": "markdown",
      "source": [
        "# Preparing the environment"
      ],
      "metadata": {
        "id": "0z3zfCcixGki"
      }
    },
    {
      "cell_type": "code",
      "metadata": {
        "colab": {
          "base_uri": "https://localhost:8080/"
        },
        "id": "-1zMPJe_sWw4",
        "outputId": "b11658fa-7414-4f5f-b09c-54519e496a7d"
      },
      "source": [
        "!pip install openmim\n",
        "!mim install mmdet"
      ],
      "execution_count": null,
      "outputs": [
        {
          "output_type": "stream",
          "name": "stdout",
          "text": [
            "Collecting openmim\n",
            "  Downloading openmim-0.1.5.tar.gz (35 kB)\n",
            "Requirement already satisfied: Click==7.1.2 in /usr/local/lib/python3.7/dist-packages (from openmim) (7.1.2)\n",
            "Collecting colorama\n",
            "  Downloading colorama-0.4.4-py2.py3-none-any.whl (16 kB)\n",
            "Requirement already satisfied: requests in /usr/local/lib/python3.7/dist-packages (from openmim) (2.23.0)\n",
            "Collecting model-index\n",
            "  Downloading model_index-0.1.11-py3-none-any.whl (34 kB)\n",
            "Requirement already satisfied: pandas in /usr/local/lib/python3.7/dist-packages (from openmim) (1.1.5)\n",
            "Requirement already satisfied: tabulate in /usr/local/lib/python3.7/dist-packages (from openmim) (0.8.9)\n",
            "Collecting ordered-set\n",
            "  Downloading ordered-set-4.0.2.tar.gz (10 kB)\n",
            "Requirement already satisfied: markdown in /usr/local/lib/python3.7/dist-packages (from model-index->openmim) (3.3.6)\n",
            "Requirement already satisfied: pyyaml in /usr/local/lib/python3.7/dist-packages (from model-index->openmim) (3.13)\n",
            "Requirement already satisfied: importlib-metadata>=4.4 in /usr/local/lib/python3.7/dist-packages (from markdown->model-index->openmim) (4.8.2)\n",
            "Requirement already satisfied: typing-extensions>=3.6.4 in /usr/local/lib/python3.7/dist-packages (from importlib-metadata>=4.4->markdown->model-index->openmim) (3.10.0.2)\n",
            "Requirement already satisfied: zipp>=0.5 in /usr/local/lib/python3.7/dist-packages (from importlib-metadata>=4.4->markdown->model-index->openmim) (3.6.0)\n",
            "Requirement already satisfied: pytz>=2017.2 in /usr/local/lib/python3.7/dist-packages (from pandas->openmim) (2018.9)\n",
            "Requirement already satisfied: numpy>=1.15.4 in /usr/local/lib/python3.7/dist-packages (from pandas->openmim) (1.19.5)\n",
            "Requirement already satisfied: python-dateutil>=2.7.3 in /usr/local/lib/python3.7/dist-packages (from pandas->openmim) (2.8.2)\n",
            "Requirement already satisfied: six>=1.5 in /usr/local/lib/python3.7/dist-packages (from python-dateutil>=2.7.3->pandas->openmim) (1.15.0)\n",
            "Requirement already satisfied: idna<3,>=2.5 in /usr/local/lib/python3.7/dist-packages (from requests->openmim) (2.10)\n",
            "Requirement already satisfied: chardet<4,>=3.0.2 in /usr/local/lib/python3.7/dist-packages (from requests->openmim) (3.0.4)\n",
            "Requirement already satisfied: urllib3!=1.25.0,!=1.25.1,<1.26,>=1.21.1 in /usr/local/lib/python3.7/dist-packages (from requests->openmim) (1.24.3)\n",
            "Requirement already satisfied: certifi>=2017.4.17 in /usr/local/lib/python3.7/dist-packages (from requests->openmim) (2021.10.8)\n",
            "Building wheels for collected packages: openmim, ordered-set\n",
            "  Building wheel for openmim (setup.py) ... \u001b[?25l\u001b[?25hdone\n",
            "  Created wheel for openmim: filename=openmim-0.1.5-py2.py3-none-any.whl size=42502 sha256=14ae80d31be8e2f8337f28f5d680a96300610a0b8457d415d0394a528be12060\n",
            "  Stored in directory: /root/.cache/pip/wheels/16/8b/e1/bdebbbc687aa50224a5ce46fe97a040a0c59f92b34bfc750b6\n",
            "  Building wheel for ordered-set (setup.py) ... \u001b[?25l\u001b[?25hdone\n",
            "  Created wheel for ordered-set: filename=ordered_set-4.0.2-py2.py3-none-any.whl size=8219 sha256=7880431192dd9ef539f1ca435c98e7584b26f4fe10367ac4d683baca510e4dda\n",
            "  Stored in directory: /root/.cache/pip/wheels/73/2b/f6/26e9f84153c25050fe7c09e88f8e32a6be3c7034a38c418319\n",
            "Successfully built openmim ordered-set\n",
            "Installing collected packages: ordered-set, model-index, colorama, openmim\n",
            "Successfully installed colorama-0.4.4 model-index-0.1.11 openmim-0.1.5 ordered-set-4.0.2\n",
            "installing mmdet from https://github.com/open-mmlab/mmdetection.git.\n",
            "Cloning into '/tmp/tmp7fpvgrg4/mmdetection'...\n",
            "remote: Enumerating objects: 22332, done.\u001b[K\n",
            "remote: Total 22332 (delta 0), reused 0 (delta 0), pack-reused 22332\u001b[K\n",
            "Receiving objects: 100% (22332/22332), 25.45 MiB | 26.22 MiB/s, done.\n",
            "Resolving deltas: 100% (15634/15634), done.\n",
            "Note: checking out '5e246d5e3bc3310b5c625fb57bc03d2338ca39bc'.\n",
            "\n",
            "You are in 'detached HEAD' state. You can look around, make experimental\n",
            "changes and commit them, and you can discard any commits you make in this\n",
            "state without impacting any branches by performing another checkout.\n",
            "\n",
            "If you want to create a new branch to retain commits you create, you may\n",
            "do so (now or later) by using -b with the checkout command again. Example:\n",
            "\n",
            "  git checkout -b <new-branch-name>\n",
            "\n",
            "\u001b[32minstalling dependency: mmcv-full\u001b[0m\n",
            "installing mmcv-full from wheel.\n",
            "Looking in links: https://download.openmmlab.com/mmcv/dist/cu111/torch1.10.0/index.html\n",
            "Collecting mmcv-full==1.4.0\n",
            "  Downloading https://download.openmmlab.com/mmcv/dist/cu111/torch1.10.0/mmcv_full-1.4.0-cp37-cp37m-manylinux1_x86_64.whl (58.0 MB)\n",
            "\u001b[K     |████████████████████████████████| 58.0 MB 93 kB/s \n",
            "\u001b[?25hRequirement already satisfied: numpy in /usr/local/lib/python3.7/dist-packages (from mmcv-full==1.4.0) (1.19.5)\n",
            "Requirement already satisfied: opencv-python>=3 in /usr/local/lib/python3.7/dist-packages (from mmcv-full==1.4.0) (4.1.2.30)\n",
            "Requirement already satisfied: pyyaml in /usr/local/lib/python3.7/dist-packages (from mmcv-full==1.4.0) (3.13)\n",
            "Collecting addict\n",
            "  Downloading addict-2.4.0-py3-none-any.whl (3.8 kB)\n",
            "Collecting yapf\n",
            "  Downloading yapf-0.31.0-py2.py3-none-any.whl (185 kB)\n",
            "\u001b[K     |████████████████████████████████| 185 kB 5.4 MB/s \n",
            "\u001b[?25hRequirement already satisfied: Pillow in /usr/local/lib/python3.7/dist-packages (from mmcv-full==1.4.0) (7.1.2)\n",
            "Requirement already satisfied: packaging in /usr/local/lib/python3.7/dist-packages (from mmcv-full==1.4.0) (21.3)\n",
            "Requirement already satisfied: pyparsing!=3.0.5,>=2.0.2 in /usr/local/lib/python3.7/dist-packages (from packaging->mmcv-full==1.4.0) (3.0.6)\n",
            "Installing collected packages: yapf, addict, mmcv-full\n",
            "Successfully installed addict-2.4.0 mmcv-full-1.4.0 yapf-0.31.0\n",
            "\u001b[32mSuccessfully installed mmcv-full.\u001b[0m\n",
            "\u001b[32mSuccessfully installed dependencies.\u001b[0m\n",
            "Requirement already satisfied: cython in /usr/local/lib/python3.7/dist-packages (from -r /tmp/tmp7fpvgrg4/mmdetection/requirements/build.txt (line 2)) (0.29.24)\n",
            "Requirement already satisfied: numpy in /usr/local/lib/python3.7/dist-packages (from -r /tmp/tmp7fpvgrg4/mmdetection/requirements/build.txt (line 3)) (1.19.5)\n",
            "Processing /tmp/tmp7fpvgrg4/mmdetection\n",
            "Requirement already satisfied: matplotlib in /usr/local/lib/python3.7/dist-packages (from mmdet==2.19.1) (3.2.2)\n",
            "Requirement already satisfied: numpy in /usr/local/lib/python3.7/dist-packages (from mmdet==2.19.1) (1.19.5)\n",
            "Requirement already satisfied: six in /usr/local/lib/python3.7/dist-packages (from mmdet==2.19.1) (1.15.0)\n",
            "Collecting terminaltables\n",
            "  Downloading terminaltables-3.1.10-py2.py3-none-any.whl (15 kB)\n",
            "Requirement already satisfied: pycocotools in /usr/local/lib/python3.7/dist-packages (from mmdet==2.19.1) (2.0.3)\n",
            "Requirement already satisfied: kiwisolver>=1.0.1 in /usr/local/lib/python3.7/dist-packages (from matplotlib->mmdet==2.19.1) (1.3.2)\n",
            "Requirement already satisfied: pyparsing!=2.0.4,!=2.1.2,!=2.1.6,>=2.0.1 in /usr/local/lib/python3.7/dist-packages (from matplotlib->mmdet==2.19.1) (3.0.6)\n",
            "Requirement already satisfied: cycler>=0.10 in /usr/local/lib/python3.7/dist-packages (from matplotlib->mmdet==2.19.1) (0.11.0)\n",
            "Requirement already satisfied: python-dateutil>=2.1 in /usr/local/lib/python3.7/dist-packages (from matplotlib->mmdet==2.19.1) (2.8.2)\n",
            "Requirement already satisfied: cython>=0.27.3 in /usr/local/lib/python3.7/dist-packages (from pycocotools->mmdet==2.19.1) (0.29.24)\n",
            "Requirement already satisfied: setuptools>=18.0 in /usr/local/lib/python3.7/dist-packages (from pycocotools->mmdet==2.19.1) (57.4.0)\n",
            "Building wheels for collected packages: mmdet\n",
            "  Building wheel for mmdet (setup.py) ... \u001b[?25l\u001b[?25hdone\n",
            "  Created wheel for mmdet: filename=mmdet-2.19.1-py3-none-any.whl size=1244321 sha256=ea8b04dba6175899120967349b268a6b96ffb4d328bac2b155fdf4e0936f9fc1\n",
            "  Stored in directory: /tmp/pip-ephem-wheel-cache-0rc6q_hq/wheels/ab/14/30/1311712b9ba55d926245b35f6f079f81ea8c7da1059c435d21\n",
            "Successfully built mmdet\n",
            "Installing collected packages: terminaltables, mmdet\n",
            "Successfully installed mmdet-2.19.1 terminaltables-3.1.10\n",
            "\u001b[32mSuccessfully installed mmdet.\u001b[0m\n"
          ]
        }
      ]
    },
    {
      "cell_type": "code",
      "metadata": {
        "id": "IPgTcjjgssdZ"
      },
      "source": [
        "!unzip 'dataset.zip'"
      ],
      "execution_count": null,
      "outputs": []
    },
    {
      "cell_type": "code",
      "metadata": {
        "id": "EVgFEYLztNTD"
      },
      "source": [
        "import time\n",
        "import matplotlib\n",
        "import matplotlib.pylab as plt\n",
        "import mmcv\n",
        "from mmcv.runner import load_checkpoint\n",
        "import mmcv.visualization.image as mmcv_image\n",
        "from mmdet.apis import inference_detector, init_detector, show_result_pyplot\n",
        "\n",
        "# fix for colab\n",
        "plt.rcParams[\"axes.grid\"] = False\n",
        "\n",
        "\n",
        "def imshow(img, win_name='', wait_time=0):\n",
        "  plt.figure(figsize=(50, 50))\n",
        "  plt.imshow(img)\n"
      ],
      "execution_count": null,
      "outputs": []
    },
    {
      "cell_type": "code",
      "metadata": {
        "colab": {
          "base_uri": "https://localhost:8080/"
        },
        "id": "MU85edthBqpj",
        "outputId": "ab2f897c-a4b6-44e3-8c74-91e486cbb7f0"
      },
      "source": [
        "!git clone https://github.com/open-mmlab/mmdetection.git"
      ],
      "execution_count": null,
      "outputs": [
        {
          "output_type": "stream",
          "name": "stdout",
          "text": [
            "Cloning into 'mmdetection'...\n",
            "remote: Enumerating objects: 22332, done.\u001b[K\n",
            "remote: Total 22332 (delta 0), reused 0 (delta 0), pack-reused 22332\u001b[K\n",
            "Receiving objects: 100% (22332/22332), 25.45 MiB | 24.08 MiB/s, done.\n",
            "Resolving deltas: 100% (15634/15634), done.\n"
          ]
        }
      ]
    },
    {
      "cell_type": "markdown",
      "source": [
        "# Read ids of testing images"
      ],
      "metadata": {
        "id": "So5vdPVXw5wy"
      }
    },
    {
      "cell_type": "code",
      "metadata": {
        "id": "K8l5OQh5CGEb"
      },
      "source": [
        "import json\n",
        "with open('/content/dataset/test_img_ids.json') as json_file:\n",
        "  ids = json.load(json_file)\n"
      ],
      "execution_count": null,
      "outputs": []
    },
    {
      "cell_type": "markdown",
      "metadata": {
        "id": "F8NCMtOkGp8L"
      },
      "source": [
        "# Create answer file"
      ]
    },
    {
      "cell_type": "code",
      "metadata": {
        "id": "75YF52KItqk8"
      },
      "source": [
        "# build the model from a config file and a checkpoint file\n",
        "config_fname = 'mask_rcnn_r101_fpn_config.py'\n",
        "checkpoint_file = 'mask_rcnn_2436.pth'\n",
        "model = init_detector(config_fname, checkpoint_file)\n"
      ],
      "execution_count": null,
      "outputs": []
    },
    {
      "cell_type": "code",
      "metadata": {
        "id": "7AFdztybs0Lr"
      },
      "source": [
        "import os\n",
        "from PIL import Image\n",
        "import numpy as np\n",
        "from pycocotools import mask as m\n",
        "\n",
        "output_json = []\n",
        "\n",
        "folder_path = '/content/dataset/test'\n",
        "folder_content = os.listdir(folder_path)\n",
        "for test_img in ids:\n",
        "  path = os.path.join(folder_path, test_img['file_name'])\n",
        "  img_id = test_img['id']\n",
        "  w, h = test_img['width'], test_img['height']\n",
        "  result = inference_detector(model, path)\n",
        "  for i in range(len(result[0][0])):\n",
        "    dicts = {}\n",
        "    dicts[\"image_id\"] = int(img_id)\n",
        "    dicts[\"category_id\"] = 1\n",
        "    dicts[\"score\"] = float(result[0][0][i][4])\n",
        "    bbox = []\n",
        "    # x\n",
        "    bbox.append(float(result[0][0][i][0]))\n",
        "    # y\n",
        "    bbox.append(float(result[0][0][i][1]))\n",
        "    # width\n",
        "    bbox.append(float(result[0][0][i][2] - result[0][0][i][0]))\n",
        "    # height\n",
        "    bbox.append(float(result[0][0][i][3] - result[0][0][i][1]))\n",
        "    dicts[\"bbox\"] = bbox\n",
        "    bimap = result[1][0][i]\n",
        "    rle = m.encode(np.asfortranarray(bimap))\n",
        "    rle['counts'] = rle['counts'].decode(\"utf-8\")\n",
        "    dicts['segmentation'] = rle\n",
        "    output_json.append(dicts)\n"
      ],
      "execution_count": null,
      "outputs": []
    },
    {
      "cell_type": "code",
      "metadata": {
        "id": "KpbjBkR4HMo0"
      },
      "source": [
        "json_object = json.dumps(output_json, indent=4)\n",
        "with open('answer.json', 'w') as f:\n",
        "  f.write(json_object)\n"
      ],
      "execution_count": null,
      "outputs": []
    }
  ]
}